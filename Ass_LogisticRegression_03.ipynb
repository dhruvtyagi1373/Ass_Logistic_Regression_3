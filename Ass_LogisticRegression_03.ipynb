{
 "cells": [
  {
   "cell_type": "markdown",
   "id": "80af2bba-0428-46cb-b925-954a25d01ced",
   "metadata": {},
   "source": [
    "## Q1. Explain the concept of precision and recall in the context of classification models."
   ]
  },
  {
   "cell_type": "markdown",
   "id": "db3f97ef-ab23-4906-a6f2-c656c56748de",
   "metadata": {},
   "source": [
    "Sol : Precision is defined as the ratio of correctly classified positive samples (True Positive) to a total number of classified positive samples (either correctly or incorrectly).\n",
    "\n",
    "The recall is calculated as the ratio between the numbers of Positive samples correctly classified as Positive to the total number of Positive samples. The recall measures the model's ability to detect positive samples. The higher the recall, the more positive samples detected."
   ]
  },
  {
   "cell_type": "markdown",
   "id": "5663d96a-cbbc-43e2-84d2-c039b3a0a21a",
   "metadata": {},
   "source": [
    "## Q2. What is the F1 score and how is it calculated? How is it different from precision and recall?"
   ]
  },
  {
   "cell_type": "markdown",
   "id": "640394ee-d792-49d5-9fe6-1f7124d7aa1a",
   "metadata": {},
   "source": [
    "F1 score is a machine learning evaluation metric that measures a model's accuracy. It combines the precision and recall scores of a model. The accuracy metric computes how many times a model made a correct prediction across the entire dataset.\n",
    "- F1-score=(2 * Recall * precision)/(Recall+precision)\n",
    "\n",
    "The goal of the F1 score is to combine the precision and recall metrics into a single metric. At the same time, the F1 score has been designed to work well on imbalanced data."
   ]
  },
  {
   "cell_type": "markdown",
   "id": "634e2340-2ce2-4bdd-9c92-6b09e424fa71",
   "metadata": {},
   "source": [
    "## Q3. What is ROC and AUC, and how are they used to evaluate the performance of classification models?"
   ]
  },
  {
   "cell_type": "markdown",
   "id": "738b21f0-22c7-468d-8cd4-58e9f9d00482",
   "metadata": {},
   "source": [
    "Sol : AUC - ROC curve is a performance measurement for the classification problems at various threshold settings. ROC is a probability curve and AUC represents the degree or measure of separability. It tells how much the model is capable of distinguishing between classes. Higher the AUC, the better the model is at predicting 0 classes as 0 and 1 classes as 1.\n",
    "\n",
    "The ROC curve is plotted with TPR against the FPR where TPR is on the y-axis and FPR is on the x-axis.\n",
    "\n",
    "An excellent model has AUC near to the 1 which means it has a good measure of separability. A poor model has an AUC near 0 which means it has the worst measure of separability."
   ]
  },
  {
   "cell_type": "markdown",
   "id": "71663960-0b6a-40d1-812d-a34e411799d0",
   "metadata": {},
   "source": [
    "## Q4. How do you choose the best metric to evaluate the performance of a classification model?"
   ]
  },
  {
   "cell_type": "markdown",
   "id": "e3d6f86a-4239-49f9-8870-7153ae73698c",
   "metadata": {},
   "source": [
    "Sol: If FP(False Positive) is important in a classification model then we will use Precision and if FN(False Negative) is important then we will use Recall.If we have a imbalanced dataset then we will use F1-score to evaluate performance of a classification model."
   ]
  },
  {
   "cell_type": "markdown",
   "id": "9e57d048-01c8-4472-9386-e1146e0abd6e",
   "metadata": {},
   "source": [
    "## Q5. What is multiclass classification and how is it different from binary classification?"
   ]
  },
  {
   "cell_type": "markdown",
   "id": "e98ffa0e-c1b9-4c50-825e-28cc3960728b",
   "metadata": {},
   "source": [
    "Sol : In multiclass classification, we have more than two classes in our dependent or target variable whereas in Binary classification problem we have only two classes in Dependent variable."
   ]
  },
  {
   "cell_type": "markdown",
   "id": "82ddc6e0-4df4-4032-9348-ae3699398be0",
   "metadata": {},
   "source": [
    "## Q6. Explain how logistic regression can be used for multiclass classification."
   ]
  },
  {
   "cell_type": "markdown",
   "id": "1ba5d9fa-e91f-45c7-a8cd-9adee4dbccc2",
   "metadata": {},
   "source": [
    "Sol: Logistic Regression for multiclass classification can be used in same way as used for binary classification but only solver parameter used in Logistic Regression can only take ‘newton-cg’, ‘sag’, ‘saga’ and ‘lbfgs’.\n",
    "Firstly we will import Logistic Regression from scikit-learn library and then we will train our model with training dataset and then predict using our test dataset which we will get from train-test-split."
   ]
  },
  {
   "cell_type": "markdown",
   "id": "ea635262-a729-416e-97d8-0a3fcc62efeb",
   "metadata": {},
   "source": [
    "## Q7. Describe the steps involved in an end-to-end project for multiclass classification."
   ]
  },
  {
   "cell_type": "code",
   "execution_count": null,
   "id": "de14bb4e-9d22-43ac-86f8-81269cd07eb9",
   "metadata": {},
   "outputs": [],
   "source": []
  },
  {
   "cell_type": "markdown",
   "id": "a0e18cef-ecb1-4b09-91bb-fd61cc8f738c",
   "metadata": {},
   "source": [
    "## Q8. What is model deployment and why is it important?"
   ]
  },
  {
   "cell_type": "markdown",
   "id": "ee79f3b4-56f4-4ba0-aae1-9ec75bfcd186",
   "metadata": {},
   "source": [
    "Sol : Deploying a machine learning model, known as model deployment, simply means to integrate a machine learning model and integrate it into an existing production environment where it can take in an input and return an output.\n",
    "\n",
    "The purpose of deploying your model is so that you can make the predictions from a trained ML model available to others, whether that be users, management, or other systems. "
   ]
  },
  {
   "cell_type": "markdown",
   "id": "5cb8cde3-ede5-4e76-b208-e4444e851de1",
   "metadata": {},
   "source": [
    "## Q9. Explain how multi-cloud platforms are used for model deployment."
   ]
  },
  {
   "cell_type": "markdown",
   "id": "c30b74d3-6758-49d2-b316-4ed1eba01ab1",
   "metadata": {},
   "source": [
    "A multi-cloud model is an approach where an organization incorporates public cloud services from more than a CSP. In a multi-cloud configuration, a company may run workloads on IaaS or PaaS from multiple vendors such as AWS, Azure, or Google Cloud Platform.\n",
    "\n",
    "For eg. Parallels Remote Application Server (RAS) is a flexible, cloud-ready, ease-to-use, and low-cost virtual desktop infrastructure (VDI) solution. Parallels RAS supports various cloud deployment models, including public, private, and hybrid.\n",
    "Organizations can use Parallels RAS to deploy Windows applications and desktops on public clouds such as AWS, Azure, and Google Cloud Platform seamlessly."
   ]
  },
  {
   "cell_type": "markdown",
   "id": "ea5fbeae-bb14-4529-87b3-9acde5519eff",
   "metadata": {},
   "source": [
    "## Q9. Discuss the benefits and challenges of deploying machine learning models in a multi-cloud environment."
   ]
  },
  {
   "cell_type": "markdown",
   "id": "8839e486-e63a-4c6b-b083-41ef6eff3e54",
   "metadata": {},
   "source": [
    "Advantages of multi-cloud environment-\n",
    "- It allows organizations to optimize return on investment (ROI). A multi-cloud deployment model allows organizations to choose the specific services that work best for them. They can then maximize the resources and pay only for what gets used.\n",
    "- It provides a reliable architecture. Using multiple CSPs creates redundancies that minimize the risk of a single point of failure. It reduces the chances that a single service failure will make the entire organization go offline.\n",
    "- It provides freedom of choice. Multi-cloud models allow companies to choose the best CSP based on contracts, payment flexibility, and customizable capacity. This is especially important as business requirements change, allowing companies to allocate resources accordingly.\n",
    "- Reduced Latency: To reduce latency and improve user experience, you can choose cloud regions and zones that are close to your clients.\n",
    " \n",
    "Challenges - \n",
    "-  User Access Controls:\n",
    "   Multi cloud environments make user access control management more complex and challenging. \n",
    "-  Data Governance:\n",
    "   With the sheer amount of data being processed by most companies today, data governance is a monumental challenge in any  environment. When you use a multi cloud strategy, this challenge increases exponentially"
   ]
  }
 ],
 "metadata": {
  "kernelspec": {
   "display_name": "Python 3 (ipykernel)",
   "language": "python",
   "name": "python3"
  },
  "language_info": {
   "codemirror_mode": {
    "name": "ipython",
    "version": 3
   },
   "file_extension": ".py",
   "mimetype": "text/x-python",
   "name": "python",
   "nbconvert_exporter": "python",
   "pygments_lexer": "ipython3",
   "version": "3.10.8"
  }
 },
 "nbformat": 4,
 "nbformat_minor": 5
}
